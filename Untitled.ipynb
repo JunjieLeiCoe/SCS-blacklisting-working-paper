{
 "cells": [
  {
   "cell_type": "code",
   "execution_count": 18,
   "metadata": {},
   "outputs": [],
   "source": [
    "import string\n",
    "\n",
    "\n",
    "def is_pangram(s):\n",
    "    myStr = 'abcdefghijklmnopqrstuvwxyz'\n",
    "    for i in s:\n",
    "        print(i.lower())\n",
    "        if i.lower() in myStr: \n",
    "            myStr = myStr.replace(i.lower(), \"\")\n",
    "            print(myStr)\n",
    "        else: \n",
    "            pass\n",
    "        \n",
    "    if myStr != \"\": \n",
    "        return False\n",
    "    else: \n",
    "        return True\n",
    "            "
   ]
  },
  {
   "cell_type": "code",
   "execution_count": 19,
   "metadata": {},
   "outputs": [
    {
     "name": "stdout",
     "output_type": "stream",
     "text": [
      "t\n",
      "abcdefghijklmnopqrsuvwxyz\n",
      "h\n",
      "abcdefgijklmnopqrsuvwxyz\n",
      "e\n",
      "abcdfgijklmnopqrsuvwxyz\n",
      " \n",
      "q\n",
      "abcdfgijklmnoprsuvwxyz\n",
      "u\n",
      "abcdfgijklmnoprsvwxyz\n",
      "i\n",
      "abcdfgjklmnoprsvwxyz\n",
      "c\n",
      "abdfgjklmnoprsvwxyz\n",
      "k\n",
      "abdfgjlmnoprsvwxyz\n",
      ",\n",
      " \n",
      "b\n",
      "adfgjlmnoprsvwxyz\n",
      "r\n",
      "adfgjlmnopsvwxyz\n",
      "o\n",
      "adfgjlmnpsvwxyz\n",
      "w\n",
      "adfgjlmnpsvxyz\n",
      "n\n",
      "adfgjlmpsvxyz\n",
      " \n",
      "f\n",
      "adgjlmpsvxyz\n",
      "o\n",
      "x\n",
      "adgjlmpsvyz\n",
      " \n",
      "j\n",
      "adglmpsvyz\n",
      "u\n",
      "m\n",
      "adglpsvyz\n",
      "p\n",
      "adglsvyz\n",
      "s\n",
      "adglvyz\n",
      " \n",
      "o\n",
      "v\n",
      "adglyz\n",
      "e\n",
      "r\n",
      " \n",
      "t\n",
      "h\n",
      "e\n",
      " \n",
      "l\n",
      "adgyz\n",
      "a\n",
      "dgyz\n",
      "z\n",
      "dgy\n",
      "y\n",
      "dg\n",
      " \n",
      "d\n",
      "g\n",
      "o\n",
      "g\n",
      "\n",
      "!\n"
     ]
    },
    {
     "data": {
      "text/plain": [
       "True"
      ]
     },
     "execution_count": 19,
     "metadata": {},
     "output_type": "execute_result"
    }
   ],
   "source": [
    "is_pangram(pangram)"
   ]
  },
  {
   "cell_type": "code",
   "execution_count": 15,
   "metadata": {},
   "outputs": [],
   "source": [
    "pangram = \"The quick, brown fox jumps over the lazy dog!\""
   ]
  },
  {
   "cell_type": "code",
   "execution_count": null,
   "metadata": {},
   "outputs": [],
   "source": []
  }
 ],
 "metadata": {
  "kernelspec": {
   "display_name": "Python 3.7.4 64-bit",
   "language": "python",
   "name": "python37464bit10257e1aa63f4b1c9f2d0ccf973edf31"
  },
  "language_info": {
   "codemirror_mode": {
    "name": "ipython",
    "version": 3
   },
   "file_extension": ".py",
   "mimetype": "text/x-python",
   "name": "python",
   "nbconvert_exporter": "python",
   "pygments_lexer": "ipython3",
   "version": "3.7.4"
  }
 },
 "nbformat": 4,
 "nbformat_minor": 2
}
