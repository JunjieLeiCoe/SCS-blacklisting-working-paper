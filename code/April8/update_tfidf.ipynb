{
 "cells": [
  {
   "cell_type": "code",
   "execution_count": 5,
   "metadata": {},
   "outputs": [],
   "source": [
    "# Loading packages\n",
    "\n",
    "library(stargazer)\n",
    "library(ggplot2)\n",
    "library(tidyverse)"
   ]
  },
  {
   "cell_type": "code",
   "execution_count": 13,
   "metadata": {},
   "outputs": [],
   "source": [
    "df <- read.csv(\"/Users/leijunjie/JUNJIE/WebScraper_Research2020S/data/sx_sh.csv\")"
   ]
  },
  {
   "cell_type": "code",
   "execution_count": 15,
   "metadata": {
    "scrolled": false
   },
   "outputs": [
    {
     "data": {
      "text/html": [
       "<table>\n",
       "<caption>A data.frame: 2 × 17</caption>\n",
       "<thead>\n",
       "\t<tr><th scope=col>X</th><th scope=col>shixin_id</th><th scope=col>iname</th><th scope=col>code_num</th><th scope=col>case_code</th><th scope=col>age</th><th scope=col>sexy</th><th scope=col>gist_id</th><th scope=col>business_entity</th><th scope=col>court</th><th scope=col>area</th><th scope=col>reg_date</th><th scope=col>gist_unit</th><th scope=col>duty</th><th scope=col>performance</th><th scope=col>disrupt_type_name</th><th scope=col>publish_date</th></tr>\n",
       "\t<tr><th scope=col>&lt;int&gt;</th><th scope=col>&lt;int&gt;</th><th scope=col>&lt;fct&gt;</th><th scope=col>&lt;fct&gt;</th><th scope=col>&lt;fct&gt;</th><th scope=col>&lt;int&gt;</th><th scope=col>&lt;int&gt;</th><th scope=col>&lt;fct&gt;</th><th scope=col>&lt;fct&gt;</th><th scope=col>&lt;fct&gt;</th><th scope=col>&lt;fct&gt;</th><th scope=col>&lt;fct&gt;</th><th scope=col>&lt;fct&gt;</th><th scope=col>&lt;fct&gt;</th><th scope=col>&lt;fct&gt;</th><th scope=col>&lt;fct&gt;</th><th scope=col>&lt;fct&gt;</th></tr>\n",
       "</thead>\n",
       "<tbody>\n",
       "\t<tr><td>79794</td><td>125595495</td><td>上海云润园艺有限公司        </td><td>776666707</td><td>（2016）沪0118执06601号</td><td>0</td><td>0</td><td>（2015）青民二（商）初字第2005号</td><td>季纪龙</td><td>上海市青浦区人民法院</td><td>上海</td><td>2016-10-09</td><td>上海市青浦区人民法院</td><td>被告支付6053800元                                                 </td><td>全部未履行</td><td>其他有履行能力而拒不履行生效法律文书确定义务  </td><td>2016-12-28</td></tr>\n",
       "\t<tr><td>87543</td><td>523849661</td><td>广州海洋南方塑料容器有限公司</td><td>618439672</td><td>（2017）沪0115执06409号</td><td>0</td><td>0</td><td>（2017）沪0115民初16389号       </td><td>黄胜兴</td><td>浦东                </td><td>上海</td><td>2017-03-15</td><td>                    </td><td>向申请人支付租金人民币5643000元。^~^向申请人支付执行发生的一切费用</td><td>全部未履行</td><td>其他有履行能力而拒不履行生效法律文书确定义务的</td><td>2017-04-10</td></tr>\n",
       "</tbody>\n",
       "</table>\n"
      ],
      "text/latex": [
       "A data.frame: 2 × 17\n",
       "\\begin{tabular}{lllllllllllllllll}\n",
       " X & shixin\\_id & iname & code\\_num & case\\_code & age & sexy & gist\\_id & business\\_entity & court & area & reg\\_date & gist\\_unit & duty & performance & disrupt\\_type\\_name & publish\\_date\\\\\n",
       " <int> & <int> & <fct> & <fct> & <fct> & <int> & <int> & <fct> & <fct> & <fct> & <fct> & <fct> & <fct> & <fct> & <fct> & <fct> & <fct>\\\\\n",
       "\\hline\n",
       "\t 79794 & 125595495 & 上海云润园艺有限公司         & 776666707 & （2016）沪0118执06601号 & 0 & 0 & （2015）青民二（商）初字第2005号 & 季纪龙 & 上海市青浦区人民法院 & 上海 & 2016-10-09 & 上海市青浦区人民法院 & 被告支付6053800元                                                  & 全部未履行 & 其他有履行能力而拒不履行生效法律文书确定义务   & 2016-12-28\\\\\n",
       "\t 87543 & 523849661 & 广州海洋南方塑料容器有限公司 & 618439672 & （2017）沪0115执06409号 & 0 & 0 & （2017）沪0115民初16389号        & 黄胜兴 & 浦东                 & 上海 & 2017-03-15 &                      & 向申请人支付租金人民币5643000元。\\textasciicircum{}\\textasciitilde{}\\textasciicircum{}向申请人支付执行发生的一切费用 & 全部未履行 & 其他有履行能力而拒不履行生效法律文书确定义务的 & 2017-04-10\\\\\n",
       "\\end{tabular}\n"
      ],
      "text/markdown": [
       "\n",
       "A data.frame: 2 × 17\n",
       "\n",
       "| X &lt;int&gt; | shixin_id &lt;int&gt; | iname &lt;fct&gt; | code_num &lt;fct&gt; | case_code &lt;fct&gt; | age &lt;int&gt; | sexy &lt;int&gt; | gist_id &lt;fct&gt; | business_entity &lt;fct&gt; | court &lt;fct&gt; | area &lt;fct&gt; | reg_date &lt;fct&gt; | gist_unit &lt;fct&gt; | duty &lt;fct&gt; | performance &lt;fct&gt; | disrupt_type_name &lt;fct&gt; | publish_date &lt;fct&gt; |\n",
       "|---|---|---|---|---|---|---|---|---|---|---|---|---|---|---|---|---|\n",
       "| 79794 | 125595495 | 上海云润园艺有限公司         | 776666707 | （2016）沪0118执06601号 | 0 | 0 | （2015）青民二（商）初字第2005号 | 季纪龙 | 上海市青浦区人民法院 | 上海 | 2016-10-09 | 上海市青浦区人民法院 | 被告支付6053800元                                                  | 全部未履行 | 其他有履行能力而拒不履行生效法律文书确定义务   | 2016-12-28 |\n",
       "| 87543 | 523849661 | 广州海洋南方塑料容器有限公司 | 618439672 | （2017）沪0115执06409号 | 0 | 0 | （2017）沪0115民初16389号        | 黄胜兴 | 浦东                 | 上海 | 2017-03-15 | <!----> | 向申请人支付租金人民币5643000元。^~^向申请人支付执行发生的一切费用 | 全部未履行 | 其他有履行能力而拒不履行生效法律文书确定义务的 | 2017-04-10 |\n",
       "\n"
      ],
      "text/plain": [
       "  X     shixin_id iname                        code_num \n",
       "1 79794 125595495 上海云润园艺有限公司         776666707\n",
       "2 87543 523849661 广州海洋南方塑料容器有限公司 618439672\n",
       "  case_code               age sexy gist_id                         \n",
       "1 （2016）沪0118执06601号 0   0    （2015）青民二（商）初字第2005号\n",
       "2 （2017）沪0115执06409号 0   0    （2017）沪0115民初16389号       \n",
       "  business_entity court                area reg_date   gist_unit           \n",
       "1 季纪龙          上海市青浦区人民法院 上海 2016-10-09 上海市青浦区人民法院\n",
       "2 黄胜兴          浦东                 上海 2017-03-15                     \n",
       "  duty                                                              \n",
       "1 被告支付6053800元                                                 \n",
       "2 向申请人支付租金人民币5643000元。^~^向申请人支付执行发生的一切费用\n",
       "  performance disrupt_type_name                              publish_date\n",
       "1 全部未履行  其他有履行能力而拒不履行生效法律文书确定义务   2016-12-28  \n",
       "2 全部未履行  其他有履行能力而拒不履行生效法律文书确定义务的 2017-04-10  "
      ]
     },
     "metadata": {},
     "output_type": "display_data"
    }
   ],
   "source": [
    "# data check;\n",
    "df %>% sample_n(2) "
   ]
  },
  {
   "cell_type": "markdown",
   "metadata": {},
   "source": [
    "## Updating Version of TF-IDF;"
   ]
  },
  {
   "cell_type": "code",
   "execution_count": null,
   "metadata": {},
   "outputs": [],
   "source": []
  }
 ],
 "metadata": {
  "kernelspec": {
   "display_name": "R",
   "language": "R",
   "name": "ir"
  },
  "language_info": {
   "codemirror_mode": "r",
   "file_extension": ".r",
   "mimetype": "text/x-r-source",
   "name": "R",
   "pygments_lexer": "r",
   "version": "3.6.2"
  }
 },
 "nbformat": 4,
 "nbformat_minor": 2
}
