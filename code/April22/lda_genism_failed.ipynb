{
 "cells": [
  {
   "cell_type": "code",
   "execution_count": 3,
   "metadata": {},
   "outputs": [],
   "source": [
    "import numpy as np\n",
    "import pandas as pd\n",
    "import matplotlib.pyplot as plt\n",
    "from matplotlib.font_manager import FontManager\n",
    "\n",
    "\n",
    "## Loading Machine Learning libraries\n",
    "from sklearn.feature_extraction.text import CountVectorizer, TfidfTransformer, TfidfVectorizer\n",
    "\n",
    "\n",
    "from mpl_toolkits.mplot3d import Axes3D\n",
    "\n",
    "pd.set_option(\"display.max_rows\", 8)\n",
    "pd.options.mode.chained_assignment = None\n",
    "\n",
    "%matplotlib inline\n",
    "%config InlineBacked.figure_format = \"retina\""
   ]
  },
  {
   "cell_type": "code",
   "execution_count": 4,
   "metadata": {},
   "outputs": [
    {
     "data": {
      "text/html": [
       "<div>\n",
       "<style scoped>\n",
       "    .dataframe tbody tr th:only-of-type {\n",
       "        vertical-align: middle;\n",
       "    }\n",
       "\n",
       "    .dataframe tbody tr th {\n",
       "        vertical-align: top;\n",
       "    }\n",
       "\n",
       "    .dataframe thead th {\n",
       "        text-align: right;\n",
       "    }\n",
       "</style>\n",
       "<table border=\"1\" class=\"dataframe\">\n",
       "  <thead>\n",
       "    <tr style=\"text-align: right;\">\n",
       "      <th></th>\n",
       "      <th>Unnamed: 0</th>\n",
       "      <th>shixin_id</th>\n",
       "      <th>duty</th>\n",
       "    </tr>\n",
       "  </thead>\n",
       "  <tbody>\n",
       "    <tr>\n",
       "      <th>0</th>\n",
       "      <td>1</td>\n",
       "      <td>2905</td>\n",
       "      <td>被告上海纺友贸易有限公司应于本判决生效后十日内支付原告江苏盛虹面料有限公司货款人民币1,13...</td>\n",
       "    </tr>\n",
       "    <tr>\n",
       "      <th>1</th>\n",
       "      <td>6</td>\n",
       "      <td>3650</td>\n",
       "      <td>一、被告上海栩瑞电气设备有限公司确认尚欠原告上海宝临超亚电器有限公司货款302,725元，原...</td>\n",
       "    </tr>\n",
       "    <tr>\n",
       "      <th>2</th>\n",
       "      <td>16</td>\n",
       "      <td>11617</td>\n",
       "      <td>原告上海玖峰数码科技有限公司于本判决生效之日起十日内支付被告张宁顺违法解除劳动合同赔偿金93...</td>\n",
       "    </tr>\n",
       "    <tr>\n",
       "      <th>3</th>\n",
       "      <td>21</td>\n",
       "      <td>15642</td>\n",
       "      <td>被执行人于2013年4月25前向申请执行人支付工资人民币5万元；被执行人于2013年5月15...</td>\n",
       "    </tr>\n",
       "    <tr>\n",
       "      <th>4</th>\n",
       "      <td>22</td>\n",
       "      <td>16229</td>\n",
       "      <td>一、原告上海顶天钢铁发展有限公司与被告内蒙古兴托物资有限公司于2007年1月11日签订的《内...</td>\n",
       "    </tr>\n",
       "  </tbody>\n",
       "</table>\n",
       "</div>"
      ],
      "text/plain": [
       "   Unnamed: 0  shixin_id                                               duty\n",
       "0           1       2905  被告上海纺友贸易有限公司应于本判决生效后十日内支付原告江苏盛虹面料有限公司货款人民币1,13...\n",
       "1           6       3650  一、被告上海栩瑞电气设备有限公司确认尚欠原告上海宝临超亚电器有限公司货款302,725元，原...\n",
       "2          16      11617  原告上海玖峰数码科技有限公司于本判决生效之日起十日内支付被告张宁顺违法解除劳动合同赔偿金93...\n",
       "3          21      15642  被执行人于2013年4月25前向申请执行人支付工资人民币5万元；被执行人于2013年5月15...\n",
       "4          22      16229  一、原告上海顶天钢铁发展有限公司与被告内蒙古兴托物资有限公司于2007年1月11日签订的《内..."
      ]
     },
     "execution_count": 4,
     "metadata": {},
     "output_type": "execute_result"
    }
   ],
   "source": [
    "stopwords = pd.read_csv(\"../data/stopwords.txt\", \n",
    "                       header = None, \n",
    "                       names = ['Stopwords'])\n",
    "\n",
    "df = pd.read_csv(\"../data/corp_text.csv\")\n",
    "df.head(5)"
   ]
  },
  {
   "cell_type": "code",
   "execution_count": 5,
   "metadata": {},
   "outputs": [],
   "source": [
    "import jieba ## Chinese Langauge Segementation tool;"
   ]
  },
  {
   "cell_type": "code",
   "execution_count": 6,
   "metadata": {
    "scrolled": false
   },
   "outputs": [
    {
     "name": "stderr",
     "output_type": "stream",
     "text": [
      "Building prefix dict from the default dictionary ...\n",
      "Loading model from cache /var/folders/ys/98s0q77d0bl4mpqsp4lf7c740000gn/T/jieba.cache\n",
      "Loading model cost 0.768 seconds.\n",
      "Prefix dict has been built successfully.\n"
     ]
    },
    {
     "data": {
      "text/plain": [
       "['被执行人',\n",
       " '执行',\n",
       " '行人',\n",
       " '于',\n",
       " '2013',\n",
       " '年',\n",
       " '4',\n",
       " '月',\n",
       " '25',\n",
       " '前',\n",
       " '向',\n",
       " '申请',\n",
       " '执行',\n",
       " '行人',\n",
       " '支付',\n",
       " '工资',\n",
       " '人民',\n",
       " '人民币',\n",
       " '5',\n",
       " '万元',\n",
       " '；',\n",
       " '被执行人',\n",
       " '执行',\n",
       " '行人',\n",
       " '于',\n",
       " '2013',\n",
       " '年',\n",
       " '5',\n",
       " '月',\n",
       " '15',\n",
       " '前',\n",
       " '向',\n",
       " '申请',\n",
       " '执行',\n",
       " '行人',\n",
       " '支付',\n",
       " '工资',\n",
       " '人民',\n",
       " '人民币',\n",
       " '5',\n",
       " '万元',\n",
       " '；',\n",
       " '上述',\n",
       " '款项',\n",
       " '支付',\n",
       " '至',\n",
       " '申请',\n",
       " '执行',\n",
       " '行人',\n",
       " '原',\n",
       " '工资',\n",
       " '工资卡',\n",
       " '账户',\n",
       " '（',\n",
       " '汇丰',\n",
       " '汇丰银行',\n",
       " '银行',\n",
       " '）；',\n",
       " '如',\n",
       " '被执行人',\n",
       " '执行',\n",
       " '行人',\n",
       " '于',\n",
       " '2013',\n",
       " '年',\n",
       " '4',\n",
       " '月',\n",
       " '30',\n",
       " '日',\n",
       " '之前',\n",
       " '未',\n",
       " '支付',\n",
       " '第一',\n",
       " '第一笔',\n",
       " '一笔',\n",
       " '款项',\n",
       " '，',\n",
       " '申请',\n",
       " '执行',\n",
       " '行人',\n",
       " '可以',\n",
       " '就',\n",
       " '所有',\n",
       " '剩余',\n",
       " '余款',\n",
       " '款项',\n",
       " '一并',\n",
       " '申请',\n",
       " '强制',\n",
       " '强制执行',\n",
       " '执行',\n",
       " '；',\n",
       " '申请',\n",
       " '执行',\n",
       " '行人',\n",
       " '放弃',\n",
       " '其他',\n",
       " '仲裁',\n",
       " '请求',\n",
       " '。']"
      ]
     },
     "execution_count": 6,
     "metadata": {},
     "output_type": "execute_result"
    }
   ],
   "source": [
    "list(jieba.cut(df.duty[3], cut_all=True))  ## test for iname;"
   ]
  },
  {
   "cell_type": "code",
   "execution_count": 7,
   "metadata": {},
   "outputs": [],
   "source": [
    "row,col = df.shape\n",
    "\n",
    "df['cutword'] = 'cutword'\n",
    "for i in np.arange(row):\n",
    "    cutwords = list(jieba.cut(df.duty[i], cut_all=True))\n",
    "    cutwords = pd.Series(cutwords)[pd.Series(cutwords).apply(len)>1]\n",
    "    df.cutword[i] = cutwords.values"
   ]
  },
  {
   "cell_type": "code",
   "execution_count": 37,
   "metadata": {},
   "outputs": [
    {
     "data": {
      "text/plain": [
       "1    [被告, 上海, 电气, 电气设备, 设备, 备有, 有限, 有限公司, 公司, 确认, 原...\n",
       "2    [原告, 上海, 数码, 数码科技, 科技, 有限, 有限公司, 公司, 判决, 生效, 之...\n",
       "3    [被执行人, 执行, 行人, 月前, 申请, 执行, 行人, 支付, 工资, 人民, 人民币...\n",
       "4    [原告, 上海, 顶天, 钢铁, 发展, 有限, 有限公司, 公司, 被告, 内蒙, 内蒙古...\n",
       "Name: cutword, dtype: object"
      ]
     },
     "execution_count": 37,
     "metadata": {},
     "output_type": "execute_result"
    }
   ],
   "source": [
    "df.cutword[1:5]"
   ]
  },
  {
   "cell_type": "code",
   "execution_count": 8,
   "metadata": {},
   "outputs": [
    {
     "name": "stderr",
     "output_type": "stream",
     "text": [
      "/usr/local/lib/python3.7/site-packages/gensim/similarities/__init__.py:15: UserWarning: The gensim.similarities.levenshtein submodule is disabled, because the optional Levenshtein package <https://pypi.org/project/python-Levenshtein/> is unavailable. Install Levenhstein (e.g. `pip install python-Levenshtein`) to suppress this warning.\n",
      "  warnings.warn(msg)\n"
     ]
    }
   ],
   "source": [
    "import gensim\n",
    "from gensim.corpora import Dictionary\n",
    "from gensim.models.ldamodel import LdaModel"
   ]
  },
  {
   "cell_type": "code",
   "execution_count": 9,
   "metadata": {},
   "outputs": [],
   "source": [
    "dictionary = Dictionary(df.cutword)\n",
    "corpus = [dictionary.doc2bow(word) for word in df.cutword]"
   ]
  },
  {
   "cell_type": "code",
   "execution_count": 20,
   "metadata": {},
   "outputs": [],
   "source": [
    "lda = LdaModel(corpus=corpus, id2word = dictionary, num_topics = 20, random_state=12)"
   ]
  },
  {
   "cell_type": "code",
   "execution_count": 26,
   "metadata": {
    "scrolled": false
   },
   "outputs": [
    {
     "data": {
      "text/plain": [
       "'0.066*\"公司\" + 0.066*\"有限\" + 0.065*\"有限公司\" + 0.064*\"上海\" + 0.038*\"原告\" + 0.037*\"被告\" + 0.030*\"管理\" + 0.018*\"之日\" + 0.018*\"支付\" + 0.016*\"判决\" + 0.015*\"生效\" + 0.014*\"之日起\" + 0.014*\"反诉\" + 0.013*\"十日\" + 0.011*\"应于\" + 0.010*\"租赁\" + 0.010*\"返还\" + 0.009*\"租金\" + 0.008*\"房屋\" + 0.008*\"合同\" + 0.007*\"投资\" + 0.007*\"2016\" + 0.007*\"解除\" + 0.007*\"签订\" + 0.006*\"资产\" + 0.006*\"餐饮\" + 0.005*\"发展\" + 0.005*\"人民\" + 0.005*\"实业\" + 0.004*\"物业\" + 0.004*\"企业\" + 0.004*\"酒店\" + 0.004*\"经营\" + 0.004*\"000\" + 0.004*\"石油\" + 0.004*\"还原\" + 0.004*\"使用\" + 0.004*\"）；\" + 0.004*\"违约金\" + 0.003*\"用费\"'"
      ]
     },
     "execution_count": 26,
     "metadata": {},
     "output_type": "execute_result"
    }
   ],
   "source": [
    "lda.print_topic(1, topn = 40)"
   ]
  },
  {
   "cell_type": "code",
   "execution_count": 31,
   "metadata": {},
   "outputs": [
    {
     "name": "stdout",
     "output_type": "stream",
     "text": [
      "0.059*\"科技\" + 0.037*\"公司\" + 0.034*\"有限公司\" + 0.034*\"有限\" + 0.033*\"上海\"\n",
      "0.066*\"公司\" + 0.066*\"有限\" + 0.065*\"有限公司\" + 0.064*\"上海\" + 0.038*\"原告\"\n",
      "0.048*\"上海\" + 0.032*\"有限公司\" + 0.031*\"有限\" + 0.030*\"公司\" + 0.029*\"松江\"\n",
      "0.116*\"执行\" + 0.097*\"行人\" + 0.083*\"支付\" + 0.076*\"被执行人\" + 0.061*\"利息\"\n",
      "0.047*\"有限\" + 0.045*\"被告\" + 0.045*\"公司\" + 0.044*\"有限公司\" + 0.028*\"判决\"\n",
      "0.031*\"原告\" + 0.030*\"物流\" + 0.030*\"公司\" + 0.029*\"被告\" + 0.028*\"判决\"\n",
      "0.096*\"浦东\" + 0.085*\"海市\" + 0.085*\"上海市\" + 0.074*\"新区\" + 0.074*\"浦东新区\"\n",
      "0.058*\"2017\" + 0.046*\"被告\" + 0.043*\"支付\" + 0.040*\"原告\" + 0.030*\"日前\"\n",
      "0.137*\"申请\" + 0.129*\"申请人\" + 0.068*\"被申请人\" + 0.060*\"支付\" + 0.036*\"工资\"\n",
      "0.037*\"包装\" + 0.033*\"被告\" + 0.031*\"经营部\" + 0.031*\"营部\" + 0.026*\"有限\"\n",
      "0.061*\"公司\" + 0.060*\"有限公司\" + 0.057*\"有限\" + 0.043*\"上海\" + 0.026*\"被告\"\n",
      "0.068*\"上海\" + 0.064*\"公司\" + 0.064*\"被告\" + 0.062*\"有限公司\" + 0.062*\"有限\"\n",
      "0.057*\"公司\" + 0.054*\"有限\" + 0.050*\"有限公司\" + 0.030*\"被告\" + 0.028*\"上海\"\n",
      "0.068*\"有限\" + 0.068*\"公司\" + 0.062*\"有限公司\" + 0.053*\"上海\" + 0.047*\"被告\"\n",
      "0.040*\"有限\" + 0.037*\"公司\" + 0.034*\"有限公司\" + 0.030*\"上海\" + 0.028*\"同期\"\n",
      "0.040*\"调解\" + 0.036*\"股权\" + 0.025*\"产品\" + 0.024*\"协议\" + 0.024*\"支付\"\n",
      "0.167*\"2018\" + 0.029*\"被告\" + 0.021*\"公司\" + 0.018*\"支付\" + 0.017*\"有限公司\"\n",
      "0.030*\"受理\" + 0.030*\"受理费\" + 0.025*\"案件\" + 0.024*\"支付\" + 0.021*\"公司\"\n",
      "0.042*\"有限公司\" + 0.035*\"有限\" + 0.035*\"公司\" + 0.033*\"拍卖\" + 0.032*\"价款\"\n",
      "0.031*\"判决\" + 0.026*\"被告\" + 0.024*\"公司\" + 0.024*\"有限公司\" + 0.024*\"有限\"\n"
     ]
    }
   ],
   "source": [
    "for topic in lda.print_topics(num_topics=20, num_words = 5):\n",
    "    print(topic[1])"
   ]
  },
  {
   "cell_type": "code",
   "execution_count": 14,
   "metadata": {},
   "outputs": [],
   "source": [
    "import pyLDAvis\n",
    "import pyLDAvis.gensim "
   ]
  },
  {
   "cell_type": "code",
   "execution_count": 15,
   "metadata": {
    "scrolled": false
   },
   "outputs": [
    {
     "name": "stderr",
     "output_type": "stream",
     "text": [
      "/usr/local/lib/python3.7/site-packages/joblib/numpy_pickle.py:104: DeprecationWarning: tostring() is deprecated. Use tobytes() instead.\n",
      "  pickler.file_handle.write(chunk.tostring('C'))\n",
      "/usr/local/lib/python3.7/site-packages/joblib/numpy_pickle.py:104: DeprecationWarning: tostring() is deprecated. Use tobytes() instead.\n",
      "  pickler.file_handle.write(chunk.tostring('C'))\n",
      "/usr/local/lib/python3.7/site-packages/joblib/numpy_pickle.py:104: DeprecationWarning: tostring() is deprecated. Use tobytes() instead.\n",
      "  pickler.file_handle.write(chunk.tostring('C'))\n",
      "/usr/local/lib/python3.7/site-packages/joblib/numpy_pickle.py:104: DeprecationWarning: tostring() is deprecated. Use tobytes() instead.\n",
      "  pickler.file_handle.write(chunk.tostring('C'))\n"
     ]
    }
   ],
   "source": [
    "\n",
    "# feed the LDA model into the pyLDAvis instance\n",
    "lda_viz = pyLDAvis.gensim.prepare(lda , corpus=corpus, dictionary=dictionary)"
   ]
  },
  {
   "cell_type": "code",
   "execution_count": null,
   "metadata": {},
   "outputs": [],
   "source": []
  },
  {
   "cell_type": "code",
   "execution_count": null,
   "metadata": {},
   "outputs": [],
   "source": []
  }
 ],
 "metadata": {
  "kernelspec": {
   "display_name": "Python 3",
   "language": "python",
   "name": "python3"
  },
  "language_info": {
   "codemirror_mode": {
    "name": "ipython",
    "version": 3
   },
   "file_extension": ".py",
   "mimetype": "text/x-python",
   "name": "python",
   "nbconvert_exporter": "python",
   "pygments_lexer": "ipython3",
   "version": "3.7.4"
  }
 },
 "nbformat": 4,
 "nbformat_minor": 2
}
