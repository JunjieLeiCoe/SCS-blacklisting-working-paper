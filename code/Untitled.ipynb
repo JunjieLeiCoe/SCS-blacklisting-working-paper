{
 "cells": [
  {
   "cell_type": "code",
   "execution_count": 136,
   "metadata": {},
   "outputs": [],
   "source": [
    "import numpy as np\n",
    "import pandas as pd\n",
    "import matplotlib.pyplot as plt\n",
    "from matplotlib.font_manager import FontManager\n",
    "\n",
    "\n",
    "## Loading Machine Learning libraries\n",
    "from sklearn.feature_extraction.text import CountVectorizer, TfidfTransformer, TfidfVectorizer\n",
    "\n",
    "\n",
    "from mpl_toolkits.mplot3d import Axes3D\n",
    "\n",
    "pd.set_option(\"display.max_rows\", 8)\n",
    "pd.options.mode.chained_assignment = None\n",
    "\n",
    "%matplotlib inline\n",
    "%config InlineBacked.figure_format = \"retina\""
   ]
  },
  {
   "cell_type": "code",
   "execution_count": 137,
   "metadata": {},
   "outputs": [
    {
     "data": {
      "text/html": [
       "<div>\n",
       "<style scoped>\n",
       "    .dataframe tbody tr th:only-of-type {\n",
       "        vertical-align: middle;\n",
       "    }\n",
       "\n",
       "    .dataframe tbody tr th {\n",
       "        vertical-align: top;\n",
       "    }\n",
       "\n",
       "    .dataframe thead th {\n",
       "        text-align: right;\n",
       "    }\n",
       "</style>\n",
       "<table border=\"1\" class=\"dataframe\">\n",
       "  <thead>\n",
       "    <tr style=\"text-align: right;\">\n",
       "      <th></th>\n",
       "      <th>Unnamed: 0</th>\n",
       "      <th>shixin_id</th>\n",
       "      <th>duty</th>\n",
       "    </tr>\n",
       "  </thead>\n",
       "  <tbody>\n",
       "    <tr>\n",
       "      <th>0</th>\n",
       "      <td>1</td>\n",
       "      <td>2905</td>\n",
       "      <td>被告上海纺友贸易有限公司应于本判决生效后十日内支付原告江苏盛虹面料有限公司货款人民币1,13...</td>\n",
       "    </tr>\n",
       "    <tr>\n",
       "      <th>1</th>\n",
       "      <td>6</td>\n",
       "      <td>3650</td>\n",
       "      <td>一、被告上海栩瑞电气设备有限公司确认尚欠原告上海宝临超亚电器有限公司货款302,725元，原...</td>\n",
       "    </tr>\n",
       "    <tr>\n",
       "      <th>2</th>\n",
       "      <td>16</td>\n",
       "      <td>11617</td>\n",
       "      <td>原告上海玖峰数码科技有限公司于本判决生效之日起十日内支付被告张宁顺违法解除劳动合同赔偿金93...</td>\n",
       "    </tr>\n",
       "    <tr>\n",
       "      <th>3</th>\n",
       "      <td>21</td>\n",
       "      <td>15642</td>\n",
       "      <td>被执行人于2013年4月25前向申请执行人支付工资人民币5万元；被执行人于2013年5月15...</td>\n",
       "    </tr>\n",
       "    <tr>\n",
       "      <th>4</th>\n",
       "      <td>22</td>\n",
       "      <td>16229</td>\n",
       "      <td>一、原告上海顶天钢铁发展有限公司与被告内蒙古兴托物资有限公司于2007年1月11日签订的《内...</td>\n",
       "    </tr>\n",
       "  </tbody>\n",
       "</table>\n",
       "</div>"
      ],
      "text/plain": [
       "   Unnamed: 0  shixin_id                                               duty\n",
       "0           1       2905  被告上海纺友贸易有限公司应于本判决生效后十日内支付原告江苏盛虹面料有限公司货款人民币1,13...\n",
       "1           6       3650  一、被告上海栩瑞电气设备有限公司确认尚欠原告上海宝临超亚电器有限公司货款302,725元，原...\n",
       "2          16      11617  原告上海玖峰数码科技有限公司于本判决生效之日起十日内支付被告张宁顺违法解除劳动合同赔偿金93...\n",
       "3          21      15642  被执行人于2013年4月25前向申请执行人支付工资人民币5万元；被执行人于2013年5月15...\n",
       "4          22      16229  一、原告上海顶天钢铁发展有限公司与被告内蒙古兴托物资有限公司于2007年1月11日签订的《内..."
      ]
     },
     "execution_count": 137,
     "metadata": {},
     "output_type": "execute_result"
    }
   ],
   "source": [
    "stopwords = pd.read_csv(\"../data/stopwords.txt\", \n",
    "                       header = None, \n",
    "                       names = ['Stopwords'])\n",
    "\n",
    "df = pd.read_csv(\"../data/corp_text.csv\")\n",
    "df.head(5)"
   ]
  },
  {
   "cell_type": "code",
   "execution_count": 138,
   "metadata": {},
   "outputs": [],
   "source": [
    "import jieba ## Chinese Langauge Segementation tool;"
   ]
  },
  {
   "cell_type": "code",
   "execution_count": 139,
   "metadata": {
    "scrolled": true
   },
   "outputs": [
    {
     "data": {
      "text/plain": [
       "['被执行人',\n",
       " '执行',\n",
       " '行人',\n",
       " '于',\n",
       " '2013',\n",
       " '年',\n",
       " '4',\n",
       " '月',\n",
       " '25',\n",
       " '前',\n",
       " '向',\n",
       " '申请',\n",
       " '执行',\n",
       " '行人',\n",
       " '支付',\n",
       " '工资',\n",
       " '人民',\n",
       " '人民币',\n",
       " '5',\n",
       " '万元',\n",
       " '；',\n",
       " '被执行人',\n",
       " '执行',\n",
       " '行人',\n",
       " '于',\n",
       " '2013',\n",
       " '年',\n",
       " '5',\n",
       " '月',\n",
       " '15',\n",
       " '前',\n",
       " '向',\n",
       " '申请',\n",
       " '执行',\n",
       " '行人',\n",
       " '支付',\n",
       " '工资',\n",
       " '人民',\n",
       " '人民币',\n",
       " '5',\n",
       " '万元',\n",
       " '；',\n",
       " '上述',\n",
       " '款项',\n",
       " '支付',\n",
       " '至',\n",
       " '申请',\n",
       " '执行',\n",
       " '行人',\n",
       " '原',\n",
       " '工资',\n",
       " '工资卡',\n",
       " '账户',\n",
       " '（',\n",
       " '汇丰',\n",
       " '汇丰银行',\n",
       " '银行',\n",
       " '）；',\n",
       " '如',\n",
       " '被执行人',\n",
       " '执行',\n",
       " '行人',\n",
       " '于',\n",
       " '2013',\n",
       " '年',\n",
       " '4',\n",
       " '月',\n",
       " '30',\n",
       " '日',\n",
       " '之前',\n",
       " '未',\n",
       " '支付',\n",
       " '第一',\n",
       " '第一笔',\n",
       " '一笔',\n",
       " '款项',\n",
       " '，',\n",
       " '申请',\n",
       " '执行',\n",
       " '行人',\n",
       " '可以',\n",
       " '就',\n",
       " '所有',\n",
       " '剩余',\n",
       " '余款',\n",
       " '款项',\n",
       " '一并',\n",
       " '申请',\n",
       " '强制',\n",
       " '强制执行',\n",
       " '执行',\n",
       " '；',\n",
       " '申请',\n",
       " '执行',\n",
       " '行人',\n",
       " '放弃',\n",
       " '其他',\n",
       " '仲裁',\n",
       " '请求',\n",
       " '。']"
      ]
     },
     "execution_count": 139,
     "metadata": {},
     "output_type": "execute_result"
    }
   ],
   "source": [
    "list(jieba.cut(df.duty[3], cut_all=True))  ## test for iname;"
   ]
  },
  {
   "cell_type": "code",
   "execution_count": 36,
   "metadata": {},
   "outputs": [],
   "source": [
    "row,col = df.shape\n",
    "\n",
    "df['cutword'] = 'cutword'\n",
    "for i in np.arange(row):\n",
    "    cutwords = list(jieba.cut(df.duty[i], cut_all=True))\n",
    "    cutwords = pd.Series(cutwords)[pd.Series(cutwords).apply(len)>1]\n",
    "    df.cutword[i] = cutwords.values"
   ]
  },
  {
   "cell_type": "code",
   "execution_count": 37,
   "metadata": {},
   "outputs": [
    {
     "data": {
      "text/plain": [
       "1    [被告, 上海, 电气, 电气设备, 设备, 备有, 有限, 有限公司, 公司, 确认, 原...\n",
       "2    [原告, 上海, 数码, 数码科技, 科技, 有限, 有限公司, 公司, 判决, 生效, 之...\n",
       "3    [被执行人, 执行, 行人, 月前, 申请, 执行, 行人, 支付, 工资, 人民, 人民币...\n",
       "4    [原告, 上海, 顶天, 钢铁, 发展, 有限, 有限公司, 公司, 被告, 内蒙, 内蒙古...\n",
       "Name: cutword, dtype: object"
      ]
     },
     "execution_count": 37,
     "metadata": {},
     "output_type": "execute_result"
    }
   ],
   "source": [
    "df.cutword[1:5]"
   ]
  },
  {
   "cell_type": "code",
   "execution_count": 48,
   "metadata": {},
   "outputs": [],
   "source": [
    "import gensim\n",
    "from gensim.corpora import Dictionary\n",
    "from gensim.models.ldamodel import LdaModel"
   ]
  },
  {
   "cell_type": "code",
   "execution_count": 50,
   "metadata": {},
   "outputs": [],
   "source": [
    "dictionary = Dictionary(df.cutword)\n",
    "corpus = [dictionary.doc2bow(word) for word in df.cutword]"
   ]
  },
  {
   "cell_type": "code",
   "execution_count": 98,
   "metadata": {},
   "outputs": [],
   "source": [
    "lda = LdaModel(corpus=corpus, id2word = dictionary, num_topics = 100, random_state=12)"
   ]
  },
  {
   "cell_type": "code",
   "execution_count": 99,
   "metadata": {},
   "outputs": [
    {
     "data": {
      "text/plain": [
       "[(42,\n",
       "  '0.071*\"有限\" + 0.070*\"第三\" + 0.068*\"有限公司\" + 0.064*\"公司\" + 0.033*\"被告\" + 0.030*\"第三项\" + 0.026*\"用于\" + 0.024*\"原告\" + 0.024*\"款项\" + 0.023*\"租赁\"'),\n",
       " (24,\n",
       "  '0.237*\"执行\" + 0.200*\"行人\" + 0.155*\"被执行人\" + 0.057*\"申请\" + 0.050*\"支付\" + 0.040*\"要求\" + 0.027*\"利息\" + 0.015*\"强制\" + 0.013*\"人民\" + 0.011*\"申请人\"')]"
      ]
     },
     "execution_count": 99,
     "metadata": {},
     "output_type": "execute_result"
    }
   ],
   "source": [
    "lda.print_topics(2)"
   ]
  },
  {
   "cell_type": "code",
   "execution_count": 120,
   "metadata": {},
   "outputs": [],
   "source": [
    "import pyLDAvis\n",
    "import pyLDAvis.gensim "
   ]
  },
  {
   "cell_type": "code",
   "execution_count": 147,
   "metadata": {},
   "outputs": [
    {
     "ename": "KeyError",
     "evalue": "-1",
     "output_type": "error",
     "traceback": [
      "\u001b[0;31m---------------------------------------------------------------------------\u001b[0m",
      "\u001b[0;31mKeyError\u001b[0m                                  Traceback (most recent call last)",
      "\u001b[0;32m<ipython-input-147-9027714e9b9c>\u001b[0m in \u001b[0;36m<module>\u001b[0;34m\u001b[0m\n\u001b[1;32m      2\u001b[0m lda_viz = pyLDAvis.gensim.prepare(lda , \n\u001b[1;32m      3\u001b[0m                                         \u001b[0mcorpus\u001b[0m\u001b[0;34m=\u001b[0m\u001b[0mcorpus\u001b[0m\u001b[0;34m,\u001b[0m\u001b[0;34m\u001b[0m\u001b[0;34m\u001b[0m\u001b[0m\n\u001b[0;32m----> 4\u001b[0;31m                                         dictionary=dictionary[-1])\n\u001b[0m",
      "\u001b[0;32m/usr/local/lib/python3.7/site-packages/gensim/corpora/dictionary.py\u001b[0m in \u001b[0;36m__getitem__\u001b[0;34m(self, tokenid)\u001b[0m\n\u001b[1;32m    106\u001b[0m             \u001b[0;31m# recompute id->word accordingly\u001b[0m\u001b[0;34m\u001b[0m\u001b[0;34m\u001b[0m\u001b[0;34m\u001b[0m\u001b[0m\n\u001b[1;32m    107\u001b[0m             \u001b[0mself\u001b[0m\u001b[0;34m.\u001b[0m\u001b[0mid2token\u001b[0m \u001b[0;34m=\u001b[0m \u001b[0mutils\u001b[0m\u001b[0;34m.\u001b[0m\u001b[0mrevdict\u001b[0m\u001b[0;34m(\u001b[0m\u001b[0mself\u001b[0m\u001b[0;34m.\u001b[0m\u001b[0mtoken2id\u001b[0m\u001b[0;34m)\u001b[0m\u001b[0;34m\u001b[0m\u001b[0;34m\u001b[0m\u001b[0m\n\u001b[0;32m--> 108\u001b[0;31m         \u001b[0;32mreturn\u001b[0m \u001b[0mself\u001b[0m\u001b[0;34m.\u001b[0m\u001b[0mid2token\u001b[0m\u001b[0;34m[\u001b[0m\u001b[0mtokenid\u001b[0m\u001b[0;34m]\u001b[0m  \u001b[0;31m# will throw for non-existent ids\u001b[0m\u001b[0;34m\u001b[0m\u001b[0;34m\u001b[0m\u001b[0m\n\u001b[0m\u001b[1;32m    109\u001b[0m \u001b[0;34m\u001b[0m\u001b[0m\n\u001b[1;32m    110\u001b[0m     \u001b[0;32mdef\u001b[0m \u001b[0m__iter__\u001b[0m\u001b[0;34m(\u001b[0m\u001b[0mself\u001b[0m\u001b[0;34m)\u001b[0m\u001b[0;34m:\u001b[0m\u001b[0;34m\u001b[0m\u001b[0;34m\u001b[0m\u001b[0m\n",
      "\u001b[0;31mKeyError\u001b[0m: -1"
     ]
    }
   ],
   "source": [
    "\n",
    "# feed the LDA model into the pyLDAvis instance\n",
    "lda_viz = pyLDAvis.gensim.prepare(lda , \n",
    "                                        corpus=corpus,\n",
    "                                        dictionary=dictionary)"
   ]
  },
  {
   "cell_type": "code",
   "execution_count": 146,
   "metadata": {},
   "outputs": [
    {
     "data": {
      "text/plain": [
       "'归还'"
      ]
     },
     "execution_count": 146,
     "metadata": {},
     "output_type": "execute_result"
    }
   ],
   "source": []
  },
  {
   "cell_type": "code",
   "execution_count": null,
   "metadata": {},
   "outputs": [],
   "source": []
  }
 ],
 "metadata": {
  "kernelspec": {
   "display_name": "Python 3",
   "language": "python",
   "name": "python3"
  },
  "language_info": {
   "codemirror_mode": {
    "name": "ipython",
    "version": 3
   },
   "file_extension": ".py",
   "mimetype": "text/x-python",
   "name": "python",
   "nbconvert_exporter": "python",
   "pygments_lexer": "ipython3",
   "version": "3.7.4"
  }
 },
 "nbformat": 4,
 "nbformat_minor": 2
}
