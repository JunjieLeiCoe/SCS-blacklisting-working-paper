{
 "cells": [
  {
   "cell_type": "code",
   "execution_count": 2,
   "metadata": {},
   "outputs": [],
   "source": [
    "import numpy as np\n",
    "import pandas as pd"
   ]
  },
  {
   "cell_type": "code",
   "execution_count": 4,
   "metadata": {},
   "outputs": [
    {
     "data": {
      "text/html": [
       "<div>\n",
       "<style scoped>\n",
       "    .dataframe tbody tr th:only-of-type {\n",
       "        vertical-align: middle;\n",
       "    }\n",
       "\n",
       "    .dataframe tbody tr th {\n",
       "        vertical-align: top;\n",
       "    }\n",
       "\n",
       "    .dataframe thead th {\n",
       "        text-align: right;\n",
       "    }\n",
       "</style>\n",
       "<table border=\"1\" class=\"dataframe\">\n",
       "  <thead>\n",
       "    <tr style=\"text-align: right;\">\n",
       "      <th></th>\n",
       "      <th>Unnamed: 0</th>\n",
       "      <th>shixin_id</th>\n",
       "      <th>duty</th>\n",
       "    </tr>\n",
       "  </thead>\n",
       "  <tbody>\n",
       "    <tr>\n",
       "      <th>0</th>\n",
       "      <td>1</td>\n",
       "      <td>2905</td>\n",
       "      <td>被告上海纺友贸易有限公司应于本判决生效后十日内支付原告江苏盛虹面料有限公司货款人民币1,13...</td>\n",
       "    </tr>\n",
       "    <tr>\n",
       "      <th>1</th>\n",
       "      <td>6</td>\n",
       "      <td>3650</td>\n",
       "      <td>一、被告上海栩瑞电气设备有限公司确认尚欠原告上海宝临超亚电器有限公司货款302,725元，原...</td>\n",
       "    </tr>\n",
       "    <tr>\n",
       "      <th>2</th>\n",
       "      <td>16</td>\n",
       "      <td>11617</td>\n",
       "      <td>原告上海玖峰数码科技有限公司于本判决生效之日起十日内支付被告张宁顺违法解除劳动合同赔偿金93...</td>\n",
       "    </tr>\n",
       "    <tr>\n",
       "      <th>3</th>\n",
       "      <td>21</td>\n",
       "      <td>15642</td>\n",
       "      <td>被执行人于2013年4月25前向申请执行人支付工资人民币5万元；被执行人于2013年5月15...</td>\n",
       "    </tr>\n",
       "    <tr>\n",
       "      <th>4</th>\n",
       "      <td>22</td>\n",
       "      <td>16229</td>\n",
       "      <td>一、原告上海顶天钢铁发展有限公司与被告内蒙古兴托物资有限公司于2007年1月11日签订的《内...</td>\n",
       "    </tr>\n",
       "  </tbody>\n",
       "</table>\n",
       "</div>"
      ],
      "text/plain": [
       "   Unnamed: 0  shixin_id                                               duty\n",
       "0           1       2905  被告上海纺友贸易有限公司应于本判决生效后十日内支付原告江苏盛虹面料有限公司货款人民币1,13...\n",
       "1           6       3650  一、被告上海栩瑞电气设备有限公司确认尚欠原告上海宝临超亚电器有限公司货款302,725元，原...\n",
       "2          16      11617  原告上海玖峰数码科技有限公司于本判决生效之日起十日内支付被告张宁顺违法解除劳动合同赔偿金93...\n",
       "3          21      15642  被执行人于2013年4月25前向申请执行人支付工资人民币5万元；被执行人于2013年5月15...\n",
       "4          22      16229  一、原告上海顶天钢铁发展有限公司与被告内蒙古兴托物资有限公司于2007年1月11日签订的《内..."
      ]
     },
     "execution_count": 4,
     "metadata": {},
     "output_type": "execute_result"
    }
   ],
   "source": [
    "df = pd.read_csv(\"../../data/corp_text.csv\")\n",
    "df.head(5)"
   ]
  },
  {
   "cell_type": "code",
   "execution_count": 6,
   "metadata": {},
   "outputs": [
    {
     "data": {
      "text/plain": [
       "(19699, 3)"
      ]
     },
     "execution_count": 6,
     "metadata": {},
     "output_type": "execute_result"
    }
   ],
   "source": [
    "df.shape"
   ]
  },
  {
   "cell_type": "code",
   "execution_count": 9,
   "metadata": {},
   "outputs": [],
   "source": [
    "df = df.sample(20)"
   ]
  },
  {
   "cell_type": "code",
   "execution_count": 10,
   "metadata": {},
   "outputs": [],
   "source": [
    "import jieba"
   ]
  },
  {
   "cell_type": "code",
   "execution_count": 11,
   "metadata": {},
   "outputs": [],
   "source": [
    "def chinese_word_cut(mytext):\n",
    "    return \" \".join(jieba.cut(mytext))"
   ]
  },
  {
   "cell_type": "code",
   "execution_count": 12,
   "metadata": {},
   "outputs": [
    {
     "name": "stderr",
     "output_type": "stream",
     "text": [
      "Building prefix dict from the default dictionary ...\n",
      "Dumping model to file cache /var/folders/ys/98s0q77d0bl4mpqsp4lf7c740000gn/T/jieba.cache\n",
      "Loading model cost 0.919 seconds.\n",
      "Prefix dict has been built successfully.\n"
     ]
    }
   ],
   "source": [
    "df[\"duty_cutted\"] = df.duty.apply(chinese_word_cut)"
   ]
  },
  {
   "cell_type": "code",
   "execution_count": 13,
   "metadata": {},
   "outputs": [
    {
     "data": {
      "text/plain": [
       "6674              本金 加 利息 696816.74 元 以及 罚息 和 加倍 债务 利息 ^ ~\n",
       "3756     一 、 被告 上海 真鹏 建设 发展 有限公司 应于 2015 年 6 月 15 日前 给付...\n",
       "17828    要求 被执行人 支付 剩余 款项 4 , 000 , 000 元 ； 加倍 支付 迟延 履行...\n",
       "18077    强制执行 （ 2017 ） 沪 0115 民初 47810 号 《 民事 判决书 》 第一项...\n",
       "6315     被告 江苏 荣威 壁炉 制造 有限公司 于本 判决 生效 之日起 十日 内 支付 原告 上海...\n",
       "Name: duty_cutted, dtype: object"
      ]
     },
     "execution_count": 13,
     "metadata": {},
     "output_type": "execute_result"
    }
   ],
   "source": [
    "df.duty_cutted.head()"
   ]
  },
  {
   "cell_type": "code",
   "execution_count": 14,
   "metadata": {},
   "outputs": [],
   "source": [
    "from sklearn.feature_extraction.text import TfidfVectorizer, CountVectorizer"
   ]
  },
  {
   "cell_type": "code",
   "execution_count": 15,
   "metadata": {},
   "outputs": [],
   "source": [
    "n_features = 1000"
   ]
  },
  {
   "cell_type": "code",
   "execution_count": 16,
   "metadata": {},
   "outputs": [],
   "source": [
    "tf_vectorizer = CountVectorizer(strip_accents = 'unicode',\n",
    "                                max_features=n_features,\n",
    "                                stop_words='english',\n",
    "                                max_df = 0.5,\n",
    "                                min_df = 10)\n",
    "tf = tf_vectorizer.fit_transform(df.duty_cutted)"
   ]
  },
  {
   "cell_type": "code",
   "execution_count": 17,
   "metadata": {},
   "outputs": [],
   "source": [
    "from sklearn.decomposition import LatentDirichletAllocation"
   ]
  },
  {
   "cell_type": "code",
   "execution_count": 18,
   "metadata": {},
   "outputs": [],
   "source": [
    "lda = LatentDirichletAllocation(n_components = 5,max_iter=50,\n",
    "                                learning_method='online',\n",
    "                                learning_offset=50,\n",
    "                                random_state=0)"
   ]
  },
  {
   "cell_type": "code",
   "execution_count": 19,
   "metadata": {},
   "outputs": [
    {
     "data": {
      "text/plain": [
       "LatentDirichletAllocation(batch_size=128, doc_topic_prior=None,\n",
       "                          evaluate_every=-1, learning_decay=0.7,\n",
       "                          learning_method='online', learning_offset=50,\n",
       "                          max_doc_update_iter=100, max_iter=50,\n",
       "                          mean_change_tol=0.001, n_components=5, n_jobs=None,\n",
       "                          perp_tol=0.1, random_state=0, topic_word_prior=None,\n",
       "                          total_samples=1000000.0, verbose=0)"
      ]
     },
     "execution_count": 19,
     "metadata": {},
     "output_type": "execute_result"
    }
   ],
   "source": [
    "lda.fit(tf)"
   ]
  },
  {
   "cell_type": "code",
   "execution_count": 20,
   "metadata": {},
   "outputs": [
    {
     "data": {
      "text/html": [
       "\n",
       "<link rel=\"stylesheet\" type=\"text/css\" href=\"https://cdn.jsdelivr.net/gh/bmabey/pyLDAvis@3.2.2/pyLDAvis/js/ldavis.v1.0.0.css\">\n",
       "\n",
       "\n",
       "<div id=\"ldavis_el1815250145936166896339935\"></div>\n",
       "<script type=\"text/javascript\">\n",
       "\n",
       "var ldavis_el1815250145936166896339935_data = {\"mdsDat\": {\"x\": [-0.019594646933306363, 0.07726008939047953, -0.05600837113135937, -0.0007935881665183277, -0.0008634831592955408], \"y\": [-0.031730455131538444, 0.007825186971668518, 0.021863616997448262, -0.0001889091125151942, 0.0022305602749368493], \"topics\": [1, 2, 3, 4, 5], \"cluster\": [1, 1, 1, 1, 1], \"Freq\": [89.54837309932327, 3.9265883597088886, 2.4585595430779414, 2.0337904098664197, 2.0326885880234786]}, \"tinfo\": {\"Term\": [\"\\u4e4b\\u65e5\\u8d77\", \"\\u6c11\\u4e8b\", \"\\u671f\\u95f4\", \"\\u5341\\u65e5\", \"\\u4e49\\u52a1\", \"\\u8d1f\\u62c5\", \"\\u53d7\\u7406\\u8d39\", \"\\u7ed9\\u4ed8\", \"\\u8fdf\\u5ef6\", \"\\u4e4b\\u65e5\\u8d77\", \"\\u671f\\u95f4\", \"\\u5341\\u65e5\", \"\\u7ed9\\u4ed8\", \"\\u8fdf\\u5ef6\", \"\\u4e49\\u52a1\", \"\\u8d1f\\u62c5\", \"\\u6c11\\u4e8b\", \"\\u53d7\\u7406\\u8d39\", \"\\u53d7\\u7406\\u8d39\", \"\\u8d1f\\u62c5\", \"\\u4e49\\u52a1\", \"\\u6c11\\u4e8b\", \"\\u8fdf\\u5ef6\", \"\\u7ed9\\u4ed8\", \"\\u5341\\u65e5\", \"\\u671f\\u95f4\", \"\\u4e4b\\u65e5\\u8d77\", \"\\u6c11\\u4e8b\", \"\\u8fdf\\u5ef6\", \"\\u8d1f\\u62c5\", \"\\u53d7\\u7406\\u8d39\", \"\\u4e49\\u52a1\", \"\\u7ed9\\u4ed8\", \"\\u5341\\u65e5\", \"\\u671f\\u95f4\", \"\\u4e4b\\u65e5\\u8d77\", \"\\u53d7\\u7406\\u8d39\", \"\\u8d1f\\u62c5\", \"\\u6c11\\u4e8b\", \"\\u8fdf\\u5ef6\", \"\\u7ed9\\u4ed8\", \"\\u4e49\\u52a1\", \"\\u5341\\u65e5\", \"\\u4e4b\\u65e5\\u8d77\", \"\\u671f\\u95f4\", \"\\u53d7\\u7406\\u8d39\", \"\\u6c11\\u4e8b\", \"\\u8fdf\\u5ef6\", \"\\u8d1f\\u62c5\", \"\\u4e49\\u52a1\", \"\\u7ed9\\u4ed8\", \"\\u5341\\u65e5\", \"\\u671f\\u95f4\", \"\\u4e4b\\u65e5\\u8d77\"], \"Freq\": [19.0, 10.0, 18.0, 15.0, 12.0, 11.0, 10.0, 12.0, 10.0, 18.375983755260812, 17.485090767490593, 14.766697049647183, 11.146681094933626, 9.322520674044476, 10.250301170630292, 9.30226947542414, 8.41902555997138, 8.38947817178544, 1.1072794645039612, 1.0939229758999962, 1.0893344414967192, 0.2330897234248818, 0.2316506644953113, 0.2396557896686776, 0.2524011327744517, 0.23537495870494324, 0.22919688068172422, 1.0318900048433517, 0.25249368810464473, 0.2434083519231927, 0.21645545102608277, 0.23452896540861878, 0.22342730976045888, 0.23560957765102844, 0.2555122011493564, 0.256945901826795, 0.2783275894501908, 0.28305268835325603, 0.2555333299038035, 0.25180267140903473, 0.2642385769884336, 0.24826663620163275, 0.293709803093938, 0.29675737589389484, 0.26885982054551916, 0.2741908940841794, 0.2694787003236477, 0.2607364183256066, 0.2677154661075005, 0.27238033033177567, 0.27220501208921055, 0.2776629514536261, 0.2778987460055549, 0.26695778690707295], \"Total\": [19.0, 10.0, 18.0, 15.0, 12.0, 11.0, 10.0, 12.0, 10.0, 19.4258417005703, 18.52273649389597, 15.826080514620227, 12.146207783440406, 10.319204116379073, 12.094811544069039, 11.190368957708086, 10.209017318467065, 10.265731570849853, 10.265731570849853, 11.190368957708086, 12.094811544069039, 10.209017318467065, 10.319204116379073, 12.146207783440406, 15.826080514620227, 18.52273649389597, 19.4258417005703, 10.209017318467065, 10.319204116379073, 11.190368957708086, 10.265731570849853, 12.094811544069039, 12.146207783440406, 15.826080514620227, 18.52273649389597, 19.4258417005703, 10.265731570849853, 11.190368957708086, 10.209017318467065, 10.319204116379073, 12.146207783440406, 12.094811544069039, 15.826080514620227, 19.4258417005703, 18.52273649389597, 10.265731570849853, 10.209017318467065, 10.319204116379073, 11.190368957708086, 12.094811544069039, 12.146207783440406, 15.826080514620227, 18.52273649389597, 19.4258417005703], \"Category\": [\"Default\", \"Default\", \"Default\", \"Default\", \"Default\", \"Default\", \"Default\", \"Default\", \"Default\", \"Topic1\", \"Topic1\", \"Topic1\", \"Topic1\", \"Topic1\", \"Topic1\", \"Topic1\", \"Topic1\", \"Topic1\", \"Topic2\", \"Topic2\", \"Topic2\", \"Topic2\", \"Topic2\", \"Topic2\", \"Topic2\", \"Topic2\", \"Topic2\", \"Topic3\", \"Topic3\", \"Topic3\", \"Topic3\", \"Topic3\", \"Topic3\", \"Topic3\", \"Topic3\", \"Topic3\", \"Topic4\", \"Topic4\", \"Topic4\", \"Topic4\", \"Topic4\", \"Topic4\", \"Topic4\", \"Topic4\", \"Topic4\", \"Topic5\", \"Topic5\", \"Topic5\", \"Topic5\", \"Topic5\", \"Topic5\", \"Topic5\", \"Topic5\", \"Topic5\"], \"logprob\": [9.0, 8.0, 7.0, 6.0, 5.0, 4.0, 3.0, 2.0, 1.0, -1.7661, -1.8158, -1.9847, -2.266, -2.4447, -2.3498, -2.4468, -2.5466, -2.5501, -1.4482, -1.4603, -1.4645, -3.0064, -3.0126, -2.9786, -2.9268, -2.9967, -3.0233, -1.0505, -2.4583, -2.4949, -2.6123, -2.5321, -2.5806, -2.5275, -2.4464, -2.4408, -2.1712, -2.1543, -2.2566, -2.2713, -2.2231, -2.2855, -2.1174, -2.1071, -2.2058, -2.1856, -2.2029, -2.2359, -2.2095, -2.1922, -2.1929, -2.173, -2.1722, -2.2123], \"loglift\": [9.0, 8.0, 7.0, 6.0, 5.0, 4.0, 3.0, 2.0, 1.0, 0.0548, 0.0527, 0.0411, 0.0245, 0.0088, -0.0551, -0.0744, -0.0824, -0.0914, 1.0105, 0.9121, 0.8302, -0.5422, -0.5591, -0.6882, -0.901, -1.1282, -1.2024, 1.4137, -0.0048, -0.1225, -0.1536, -0.2374, -0.2901, -0.5016, -0.5779, -0.6199, 0.2875, 0.2181, 0.2076, 0.1822, 0.0673, 0.0092, -0.0916, -0.2862, -0.3373, 0.2731, 0.2613, 0.2176, 0.1629, 0.1025, 0.0976, -0.1472, -0.3037, -0.3915]}, \"token.table\": {\"Topic\": [1, 2, 1, 1, 1, 2, 1, 1, 3, 1, 1, 2, 1], \"Freq\": [0.8268008115350688, 0.08268008115350688, 0.926600776298489, 0.9478025835988204, 0.7792917577074068, 0.09741146971342585, 0.9177909541391048, 0.783620964725843, 0.09795262059073037, 0.905632457152339, 0.8042630260015395, 0.0893625584446155, 0.8721602846981991], \"Term\": [\"\\u4e49\\u52a1\", \"\\u4e49\\u52a1\", \"\\u4e4b\\u65e5\\u8d77\", \"\\u5341\\u65e5\", \"\\u53d7\\u7406\\u8d39\", \"\\u53d7\\u7406\\u8d39\", \"\\u671f\\u95f4\", \"\\u6c11\\u4e8b\", \"\\u6c11\\u4e8b\", \"\\u7ed9\\u4ed8\", \"\\u8d1f\\u62c5\", \"\\u8d1f\\u62c5\", \"\\u8fdf\\u5ef6\"]}, \"R\": 9, \"lambda.step\": 0.01, \"plot.opts\": {\"xlab\": \"PC1\", \"ylab\": \"PC2\"}, \"topic.order\": [1, 3, 2, 5, 4]};\n",
       "\n",
       "function LDAvis_load_lib(url, callback){\n",
       "  var s = document.createElement('script');\n",
       "  s.src = url;\n",
       "  s.async = true;\n",
       "  s.onreadystatechange = s.onload = callback;\n",
       "  s.onerror = function(){console.warn(\"failed to load library \" + url);};\n",
       "  document.getElementsByTagName(\"head\")[0].appendChild(s);\n",
       "}\n",
       "\n",
       "if(typeof(LDAvis) !== \"undefined\"){\n",
       "   // already loaded: just create the visualization\n",
       "   !function(LDAvis){\n",
       "       new LDAvis(\"#\" + \"ldavis_el1815250145936166896339935\", ldavis_el1815250145936166896339935_data);\n",
       "   }(LDAvis);\n",
       "}else if(typeof define === \"function\" && define.amd){\n",
       "   // require.js is available: use it to load d3/LDAvis\n",
       "   require.config({paths: {d3: \"https://d3js.org/d3.v5\"}});\n",
       "   require([\"d3\"], function(d3){\n",
       "      window.d3 = d3;\n",
       "      LDAvis_load_lib(\"https://cdn.jsdelivr.net/gh/bmabey/pyLDAvis@3.2.2/pyLDAvis/js/ldavis.v3.0.0.js\", function(){\n",
       "        new LDAvis(\"#\" + \"ldavis_el1815250145936166896339935\", ldavis_el1815250145936166896339935_data);\n",
       "      });\n",
       "    });\n",
       "}else{\n",
       "    // require.js not available: dynamically load d3 & LDAvis\n",
       "    LDAvis_load_lib(\"https://d3js.org/d3.v5.js\", function(){\n",
       "         LDAvis_load_lib(\"https://cdn.jsdelivr.net/gh/bmabey/pyLDAvis@3.2.2/pyLDAvis/js/ldavis.v3.0.0.js\", function(){\n",
       "                 new LDAvis(\"#\" + \"ldavis_el1815250145936166896339935\", ldavis_el1815250145936166896339935_data);\n",
       "            })\n",
       "         });\n",
       "}\n",
       "</script>"
      ],
      "text/plain": [
       "PreparedData(topic_coordinates=              x         y  topics  cluster       Freq\n",
       "topic                                                \n",
       "0     -0.019595 -0.031730       1        1  89.548373\n",
       "2      0.077260  0.007825       2        1   3.926588\n",
       "1     -0.056008  0.021864       3        1   2.458560\n",
       "4     -0.000794 -0.000189       4        1   2.033790\n",
       "3     -0.000863  0.002231       5        1   2.032689, topic_info=  Term       Freq      Total Category  logprob  loglift\n",
       "1  之日起  19.000000  19.000000  Default   9.0000   9.0000\n",
       "5   民事  10.000000  10.000000  Default   8.0000   8.0000\n",
       "4   期间  18.000000  18.000000  Default   7.0000   7.0000\n",
       "2   十日  15.000000  15.000000  Default   6.0000   6.0000\n",
       "0   义务  12.000000  12.000000  Default   5.0000   5.0000\n",
       "7   负担  11.000000  11.000000  Default   4.0000   4.0000\n",
       "3  受理费  10.000000  10.000000  Default   3.0000   3.0000\n",
       "6   给付  12.000000  12.000000  Default   2.0000   2.0000\n",
       "8   迟延  10.000000  10.000000  Default   1.0000   1.0000\n",
       "1  之日起  18.375984  19.425842   Topic1  -1.7661   0.0548\n",
       "4   期间  17.485091  18.522736   Topic1  -1.8158   0.0527\n",
       "2   十日  14.766697  15.826081   Topic1  -1.9847   0.0411\n",
       "6   给付  11.146681  12.146208   Topic1  -2.2660   0.0245\n",
       "8   迟延   9.322521  10.319204   Topic1  -2.4447   0.0088\n",
       "0   义务  10.250301  12.094812   Topic1  -2.3498  -0.0551\n",
       "7   负担   9.302269  11.190369   Topic1  -2.4468  -0.0744\n",
       "5   民事   8.419026  10.209017   Topic1  -2.5466  -0.0824\n",
       "3  受理费   8.389478  10.265732   Topic1  -2.5501  -0.0914\n",
       "3  受理费   1.107279  10.265732   Topic2  -1.4482   1.0105\n",
       "7   负担   1.093923  11.190369   Topic2  -1.4603   0.9121\n",
       "0   义务   1.089334  12.094812   Topic2  -1.4645   0.8302\n",
       "5   民事   0.233090  10.209017   Topic2  -3.0064  -0.5422\n",
       "8   迟延   0.231651  10.319204   Topic2  -3.0126  -0.5591\n",
       "6   给付   0.239656  12.146208   Topic2  -2.9786  -0.6882\n",
       "2   十日   0.252401  15.826081   Topic2  -2.9268  -0.9010\n",
       "4   期间   0.235375  18.522736   Topic2  -2.9967  -1.1282\n",
       "1  之日起   0.229197  19.425842   Topic2  -3.0233  -1.2024\n",
       "5   民事   1.031890  10.209017   Topic3  -1.0505   1.4137\n",
       "8   迟延   0.252494  10.319204   Topic3  -2.4583  -0.0048\n",
       "7   负担   0.243408  11.190369   Topic3  -2.4949  -0.1225\n",
       "3  受理费   0.216455  10.265732   Topic3  -2.6123  -0.1536\n",
       "0   义务   0.234529  12.094812   Topic3  -2.5321  -0.2374\n",
       "6   给付   0.223427  12.146208   Topic3  -2.5806  -0.2901\n",
       "2   十日   0.235610  15.826081   Topic3  -2.5275  -0.5016\n",
       "4   期间   0.255512  18.522736   Topic3  -2.4464  -0.5779\n",
       "1  之日起   0.256946  19.425842   Topic3  -2.4408  -0.6199\n",
       "3  受理费   0.278328  10.265732   Topic4  -2.1712   0.2875\n",
       "7   负担   0.283053  11.190369   Topic4  -2.1543   0.2181\n",
       "5   民事   0.255533  10.209017   Topic4  -2.2566   0.2076\n",
       "8   迟延   0.251803  10.319204   Topic4  -2.2713   0.1822\n",
       "6   给付   0.264239  12.146208   Topic4  -2.2231   0.0673\n",
       "0   义务   0.248267  12.094812   Topic4  -2.2855   0.0092\n",
       "2   十日   0.293710  15.826081   Topic4  -2.1174  -0.0916\n",
       "1  之日起   0.296757  19.425842   Topic4  -2.1071  -0.2862\n",
       "4   期间   0.268860  18.522736   Topic4  -2.2058  -0.3373\n",
       "3  受理费   0.274191  10.265732   Topic5  -2.1856   0.2731\n",
       "5   民事   0.269479  10.209017   Topic5  -2.2029   0.2613\n",
       "8   迟延   0.260736  10.319204   Topic5  -2.2359   0.2176\n",
       "7   负担   0.267715  11.190369   Topic5  -2.2095   0.1629\n",
       "0   义务   0.272380  12.094812   Topic5  -2.1922   0.1025\n",
       "6   给付   0.272205  12.146208   Topic5  -2.1929   0.0976\n",
       "2   十日   0.277663  15.826081   Topic5  -2.1730  -0.1472\n",
       "4   期间   0.277899  18.522736   Topic5  -2.1722  -0.3037\n",
       "1  之日起   0.266958  19.425842   Topic5  -2.2123  -0.3915, token_table=      Topic      Freq Term\n",
       "term                      \n",
       "0         1  0.826801   义务\n",
       "0         2  0.082680   义务\n",
       "1         1  0.926601  之日起\n",
       "2         1  0.947803   十日\n",
       "3         1  0.779292  受理费\n",
       "3         2  0.097411  受理费\n",
       "4         1  0.917791   期间\n",
       "5         1  0.783621   民事\n",
       "5         3  0.097953   民事\n",
       "6         1  0.905632   给付\n",
       "7         1  0.804263   负担\n",
       "7         2  0.089363   负担\n",
       "8         1  0.872160   迟延, R=9, lambda_step=0.01, plot_opts={'xlab': 'PC1', 'ylab': 'PC2'}, topic_order=[1, 3, 2, 5, 4])"
      ]
     },
     "execution_count": 20,
     "metadata": {},
     "output_type": "execute_result"
    }
   ],
   "source": [
    "import pyLDAvis \n",
    "import pyLDAvis.sklearn\n",
    "pyLDAvis.enable_notebook()\n",
    "pyLDAvis.sklearn.prepare(lda, tf, tf_vectorizer)"
   ]
  },
  {
   "cell_type": "code",
   "execution_count": 21,
   "metadata": {},
   "outputs": [],
   "source": [
    "p = pyLDAvis.sklearn.prepare(lda, tf, tf_vectorizer)"
   ]
  },
  {
   "cell_type": "code",
   "execution_count": 22,
   "metadata": {},
   "outputs": [],
   "source": [
    "pyLDAvis.save_html(p, 'lda.html')"
   ]
  },
  {
   "cell_type": "code",
   "execution_count": null,
   "metadata": {},
   "outputs": [],
   "source": []
  }
 ],
 "metadata": {
  "kernelspec": {
   "display_name": "Python 3",
   "language": "python",
   "name": "python3"
  },
  "language_info": {
   "codemirror_mode": {
    "name": "ipython",
    "version": 3
   },
   "file_extension": ".py",
   "mimetype": "text/x-python",
   "name": "python",
   "nbconvert_exporter": "python",
   "pygments_lexer": "ipython3",
   "version": "3.7.4"
  }
 },
 "nbformat": 4,
 "nbformat_minor": 2
}
